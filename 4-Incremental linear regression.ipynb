{
 "cells": [
  {
   "cell_type": "markdown",
   "metadata": {},
   "source": [
    "# Asignación 4. Incremental linear regression\n",
    "\n",
    "## Método Iterativo Mínimos Cuadrados (LMS)\n",
    "\n",
    "* Se Buscaran los valores para W que minimice el valor cuadrativo \n",
    "    (y-V ^ (X)) 2"
   ]
  },
  {
   "cell_type": "code",
   "execution_count": 1,
   "metadata": {
    "collapsed": true
   },
   "outputs": [],
   "source": [
    "#Importamos las Librerias requeridas\n",
    "\n",
    "import matplotlib.pyplot as plt\n",
    "import numpy as np\n",
    "import pandas as pd\n",
    "from sklearn import linear_model\n",
    "from sklearn.model_selection import train_test_split\n",
    "from sklearn.metrics import mean_squared_error, r2_score\n",
    "import random\n"
   ]
  },
  {
   "cell_type": "code",
   "execution_count": 2,
   "metadata": {
    "collapsed": true
   },
   "outputs": [],
   "source": [
    "# Generamos los vectores para las constantes \n",
    "weight_vector = np.zeros(3)\n",
    "#w = np.array([0.1, 0.1, 0.1]) #25 weights\n",
    "\n",
    "error_grp = []\n",
    "iter_grp = []\n"
   ]
  },
  {
   "cell_type": "code",
   "execution_count": 3,
   "metadata": {},
   "outputs": [
    {
     "name": "stdout",
     "output_type": "stream",
     "text": [
      "/home/itam/machineLearning\r\n",
      "total 1272\r\n",
      "-rw-r--r-- 1 itam users 754845 Sep 14 16:11 EjercicioROC.csv\r\n",
      "-rw-r--r-- 1 itam users     50 Sep  7 17:18 andSVM.csv\r\n",
      "-rw-r--r-- 1 itam users  24483 Sep  7 17:18 regLin.csv\r\n",
      "-rw-r--r-- 1 itam users 374795 Sep  7 17:18 regLin.xlsx\r\n",
      "-rw-r--r-- 1 itam users  24467 Sep  7 17:18 regLin2.csv\r\n",
      "-rw-r--r-- 1 itam users  24961 Sep  7 17:18 regLin3.csv\r\n",
      "-rw-r--r-- 1 itam users  14299 Sep  7 17:18 regLin4.csv\r\n",
      "-rw-r--r-- 1 itam users  66015 Sep  7 17:18 regLinPoli.csv\r\n"
     ]
    }
   ],
   "source": [
    "#LIstamos los datos y verificamos que tengamos la fuente \"regLinPoli.csv\"\n",
    "!pwd && ls MaterialyTareas/datos/ -l\n"
   ]
  },
  {
   "cell_type": "code",
   "execution_count": 4,
   "metadata": {},
   "outputs": [
    {
     "data": {
      "text/html": [
       "<div>\n",
       "<style>\n",
       "    .dataframe thead tr:only-child th {\n",
       "        text-align: right;\n",
       "    }\n",
       "\n",
       "    .dataframe thead th {\n",
       "        text-align: left;\n",
       "    }\n",
       "\n",
       "    .dataframe tbody tr th {\n",
       "        vertical-align: top;\n",
       "    }\n",
       "</style>\n",
       "<table border=\"1\" class=\"dataframe\">\n",
       "  <thead>\n",
       "    <tr style=\"text-align: right;\">\n",
       "      <th></th>\n",
       "      <th>X</th>\n",
       "      <th>X2</th>\n",
       "      <th>X3</th>\n",
       "      <th>X4</th>\n",
       "      <th>X5</th>\n",
       "      <th>y</th>\n",
       "    </tr>\n",
       "  </thead>\n",
       "  <tbody>\n",
       "    <tr>\n",
       "      <th>0</th>\n",
       "      <td>7.317938</td>\n",
       "      <td>53.552216</td>\n",
       "      <td>0.864389</td>\n",
       "      <td>0.859736</td>\n",
       "      <td>114</td>\n",
       "      <td>50.552216</td>\n",
       "    </tr>\n",
       "    <tr>\n",
       "      <th>1</th>\n",
       "      <td>1.284357</td>\n",
       "      <td>1.649574</td>\n",
       "      <td>0.108686</td>\n",
       "      <td>0.959256</td>\n",
       "      <td>115</td>\n",
       "      <td>2.649574</td>\n",
       "    </tr>\n",
       "    <tr>\n",
       "      <th>2</th>\n",
       "      <td>97.740652</td>\n",
       "      <td>9553.235089</td>\n",
       "      <td>1.990075</td>\n",
       "      <td>-0.344100</td>\n",
       "      <td>116</td>\n",
       "      <td>9643.235089</td>\n",
       "    </tr>\n",
       "    <tr>\n",
       "      <th>3</th>\n",
       "      <td>17.753591</td>\n",
       "      <td>315.190006</td>\n",
       "      <td>1.249286</td>\n",
       "      <td>-0.889370</td>\n",
       "      <td>117</td>\n",
       "      <td>310.190006</td>\n",
       "    </tr>\n",
       "    <tr>\n",
       "      <th>4</th>\n",
       "      <td>66.441081</td>\n",
       "      <td>4414.417290</td>\n",
       "      <td>1.822437</td>\n",
       "      <td>-0.450777</td>\n",
       "      <td>118</td>\n",
       "      <td>4390.417290</td>\n",
       "    </tr>\n",
       "  </tbody>\n",
       "</table>\n",
       "</div>"
      ],
      "text/plain": [
       "           X           X2        X3        X4   X5            y\n",
       "0   7.317938    53.552216  0.864389  0.859736  114    50.552216\n",
       "1   1.284357     1.649574  0.108686  0.959256  115     2.649574\n",
       "2  97.740652  9553.235089  1.990075 -0.344100  116  9643.235089\n",
       "3  17.753591   315.190006  1.249286 -0.889370  117   310.190006\n",
       "4  66.441081  4414.417290  1.822437 -0.450777  118  4390.417290"
      ]
     },
     "execution_count": 4,
     "metadata": {},
     "output_type": "execute_result"
    }
   ],
   "source": [
    "#Leemos el archivo y presentamos el contenido de las variables.\n",
    "df_LR = pd.read_csv(\"MaterialyTareas/datos/regLinPoli.csv\")\n",
    "df_LR.head()"
   ]
  },
  {
   "cell_type": "code",
   "execution_count": 5,
   "metadata": {
    "collapsed": true
   },
   "outputs": [],
   "source": [
    "# Hacemos e Split de los datos en training/testing datasets\n",
    "df_LR_X_train, df_LR_X_test, df_LR_Y_train, df_LR_Y_test = train_test_split(df_LR[['X']], df_LR[['y']], test_size=0.33, random_state=42)\n"
   ]
  },
  {
   "cell_type": "code",
   "execution_count": 6,
   "metadata": {
    "collapsed": true
   },
   "outputs": [],
   "source": [
    "#Preparamos los datos en un arreglo \n",
    "training_LSM = np.array(df_LR_X_train).transpose()\n"
   ]
  },
  {
   "cell_type": "code",
   "execution_count": 7,
   "metadata": {},
   "outputs": [
    {
     "data": {
      "text/plain": [
       "689"
      ]
     },
     "execution_count": 7,
     "metadata": {},
     "output_type": "execute_result"
    }
   ],
   "source": [
    "len(df_LR_X_train)"
   ]
  },
  {
   "cell_type": "markdown",
   "metadata": {
    "collapsed": true
   },
   "source": [
    "### La función lms() recive el dataset correspondiente a la variable que estamos utilizando"
   ]
  },
  {
   "cell_type": "code",
   "execution_count": 8,
   "metadata": {
    "collapsed": true
   },
   "outputs": [],
   "source": [
    "def lms(w): \n",
    "  i = 0\n",
    "  alpha = [0.1, 0.01, 0.001]\n",
    "  Emax = 10000000000000000000000000\n",
    "  maxIter = 500\n",
    "  E = 0\n",
    "  while ((i < maxIter) and (E < Emax)):\n",
    "    E = 0\n",
    "    for pair in training_LSM:\n",
    "      y = np.dot(w.transpose(), pair[0])\n",
    "      #print('y: ')\n",
    "      #print(y)\n",
    "      #print('==================')\n",
    "      w = w + np.dot((alpha[2]*(pair[1] - y)), pair[0]) #aquí va la lamda\n",
    "      #print('weight: ' + str(w))\n",
    "      E = E + np.power((pair[1] - y), 2)\n",
    "      #print('Error: ' + str(E))\n",
    "    error_grp.append(E)\n",
    "    iter_grp.append(i)\n",
    "    i = i + 1\n",
    "  #print('i: ' + str(i))\n",
    "\n",
    "  print('Final error: ' + str(E))\n",
    "  print('final weight: ' + str(w))\n",
    "\n",
    "\n",
    "\n",
    "\n",
    "  "
   ]
  },
  {
   "cell_type": "markdown",
   "metadata": {},
   "source": [
    "### Ejecutamos la funcion lms() para cada W, donde, iteramos para cada valor de nuestra variable en oservación "
   ]
  },
  {
   "cell_type": "code",
   "execution_count": 9,
   "metadata": {},
   "outputs": [
    {
     "name": "stdout",
     "output_type": "stream",
     "text": [
      "0.7\n",
      "Weight vector: [ 0.7]\n",
      "Final error: [  7.27014210e-27]\n",
      "final weight: [ 0.94418653]\n",
      "0.9\n",
      "Weight vector: [ 0.9]\n",
      "Final error: [  7.27014210e-27]\n",
      "final weight: [ 0.94418653]\n",
      "0.8\n",
      "Weight vector: [ 0.8]\n",
      "Final error: [  7.27014210e-27]\n",
      "final weight: [ 0.94418653]\n",
      "0.0\n",
      "Weight vector: [ 0.]\n",
      "Final error: [  7.27014210e-27]\n",
      "final weight: [ 0.94418653]\n",
      "0.5\n",
      "Weight vector: [ 0.5]\n",
      "Final error: [  7.27014210e-27]\n",
      "final weight: [ 0.94418653]\n",
      "0.7\n",
      "Weight vector: [ 0.7]\n",
      "Final error: [  7.27014210e-27]\n",
      "final weight: [ 0.94418653]\n",
      "0.6\n",
      "Weight vector: [ 0.6]\n",
      "Final error: [  7.27014210e-27]\n",
      "final weight: [ 0.94418653]\n",
      "0.0\n",
      "Weight vector: [ 0.]\n",
      "Final error: [  7.27014210e-27]\n",
      "final weight: [ 0.94418653]\n",
      "0.5\n",
      "Weight vector: [ 0.5]\n",
      "Final error: [  7.27014210e-27]\n",
      "final weight: [ 0.94418653]\n",
      "0.6\n",
      "Weight vector: [ 0.6]\n",
      "Final error: [  7.27014210e-27]\n",
      "final weight: [ 0.94418653]\n",
      "0.6\n",
      "Weight vector: [ 0.6]\n",
      "Final error: [  7.27014210e-27]\n",
      "final weight: [ 0.94418653]\n",
      "0.3\n",
      "Weight vector: [ 0.3]\n",
      "Final error: [  7.27014210e-27]\n",
      "final weight: [ 0.94418653]\n",
      "0.4\n",
      "Weight vector: [ 0.4]\n",
      "Final error: [  7.27014210e-27]\n",
      "final weight: [ 0.94418653]\n",
      "0.9\n",
      "Weight vector: [ 0.9]\n",
      "Final error: [  7.27014210e-27]\n",
      "final weight: [ 0.94418653]\n",
      "0.8\n",
      "Weight vector: [ 0.8]\n",
      "Final error: [  7.27014210e-27]\n",
      "final weight: [ 0.94418653]\n",
      "0.7\n",
      "Weight vector: [ 0.7]\n",
      "Final error: [  7.27014210e-27]\n",
      "final weight: [ 0.94418653]\n",
      "0.3\n",
      "Weight vector: [ 0.3]\n",
      "Final error: [  7.27014210e-27]\n",
      "final weight: [ 0.94418653]\n",
      "0.3\n",
      "Weight vector: [ 0.3]\n",
      "Final error: [  7.27014210e-27]\n",
      "final weight: [ 0.94418653]\n",
      "0.4\n",
      "Weight vector: [ 0.4]\n",
      "Final error: [  7.27014210e-27]\n",
      "final weight: [ 0.94418653]\n",
      "0.4\n",
      "Weight vector: [ 0.4]\n",
      "Final error: [  7.27014210e-27]\n",
      "final weight: [ 0.94418653]\n",
      "0.2\n",
      "Weight vector: [ 0.2]\n",
      "Final error: [  7.27014210e-27]\n",
      "final weight: [ 0.94418653]\n",
      "0.5\n",
      "Weight vector: [ 0.5]\n",
      "Final error: [  7.27014210e-27]\n",
      "final weight: [ 0.94418653]\n",
      "0.9\n",
      "Weight vector: [ 0.9]\n",
      "Final error: [  7.27014210e-27]\n",
      "final weight: [ 0.94418653]\n",
      "0.3\n",
      "Weight vector: [ 0.3]\n",
      "Final error: [  7.27014210e-27]\n",
      "final weight: [ 0.94418653]\n",
      "0.8\n",
      "Weight vector: [ 0.8]\n",
      "Final error: [  7.27014210e-27]\n",
      "final weight: [ 0.94418653]\n"
     ]
    }
   ],
   "source": [
    "w = []\n",
    "for x in range(25):\n",
    "  for y in range(1):\n",
    "    val = round(random.random(), 1)\n",
    "    print(val)\n",
    "    w.append(val)\n",
    "  weight_vector = np.array(w)\n",
    "  print('Weight vector: ' + str(weight_vector))\n",
    "  lms(weight_vector)\n",
    "  w = []\n"
   ]
  },
  {
   "cell_type": "code",
   "execution_count": 10,
   "metadata": {},
   "outputs": [
    {
     "data": {
      "image/png": "[encoded data removed]",
      "text/plain": [
       "<matplotlib.figure.Figure at 0x7f798cdce278>"
      ]
     },
     "metadata": {},
     "output_type": "display_data"
    }
   ],
   "source": [
    "#Dibujamos el error por cada W\n",
    "plt.scatter(iter_grp, error_grp)\n",
    "plt.ylabel('Error')\n",
    "plt.xlabel('No. of iterations')\n",
    "plt.show()"
   ]
  },
  {
   "cell_type": "code",
   "execution_count": null,
   "metadata": {
    "collapsed": true
   },
   "outputs": [],
   "source": []
  }
 ],
 "metadata": {
  "kernelspec": {
   "display_name": "Python 3",
   "language": "python",
   "name": "python3"
  },
  "language_info": {
   "codemirror_mode": {
    "name": "ipython",
    "version": 3
   },
   "file_extension": ".py",
   "mimetype": "text/x-python",
   "name": "python",
   "nbconvert_exporter": "python",
   "pygments_lexer": "ipython3",
   "version": "3.4.3"
  }
 },
 "nbformat": 4,
 "nbformat_minor": 2
}
